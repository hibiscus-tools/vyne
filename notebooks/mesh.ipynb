{
 "cells": [
  {
   "cell_type": "code",
   "execution_count": 1,
   "metadata": {},
   "outputs": [],
   "source": [
    "import numpy as np\n",
    "import seaborn as sns\n",
    "import matplotlib.pyplot as plt\n",
    "import vyne\n",
    "\n",
    "from dataclasses import dataclass\n",
    "\n",
    "sns.set_theme()\n",
    "sns.set_palette(sns.color_palette('pastel'))\n",
    "\n",
    "plt.rcParams.update({\n",
    "    'text.usetex': True,\n",
    "    'font.family': 'sans-serif',\n",
    "    'font.sans-serif': 'Libertine'\n",
    "})"
   ]
  },
  {
   "cell_type": "code",
   "execution_count": 2,
   "metadata": {},
   "outputs": [
    {
     "name": "stdout",
     "output_type": "stream",
     "text": [
      "Mesh(17568 vertices, 5856 triangles)\n",
      "\u001b[34;1m[*]\u001b[0m (ssdfg) output size = 85632l, temporary size = 385792l\n",
      "<vyne.RaytracingHandle object at 0x79680c1cbd30>\n",
      "<vyne.Camera object at 0x79680df454b0>\n",
      "<vyne.Transform object at 0x79680c1cbd30> vec3(0.000000, 0.000000, -3.000000)\n"
     ]
    }
   ],
   "source": [
    "m = vyne.Mesh.load('../data/spot.obj')[0]\n",
    "print(m)\n",
    "print(m.rtx())\n",
    "c = vyne.Camera(1.0)\n",
    "print(c)\n",
    "t = vyne.Transform()\n",
    "t.position = vyne.vec3(0, 0, -3)\n",
    "print(t, t.position)"
   ]
  },
  {
   "cell_type": "code",
   "execution_count": 3,
   "metadata": {},
   "outputs": [
    {
     "name": "stdout",
     "output_type": "stream",
     "text": [
      "\u001b[34;1m[*]\u001b[0m (ssdfg) output size = 85632l, temporary size = 385792l\n"
     ]
    }
   ],
   "source": [
    "extent = (512, 512)\n",
    "vis = vyne.render(m.rtx(), c, t, extent)"
   ]
  },
  {
   "cell_type": "code",
   "execution_count": 4,
   "metadata": {},
   "outputs": [
    {
     "name": "stdout",
     "output_type": "stream",
     "text": [
      "<vyne.DeviceBuffer object at 0x79680c030430> [[0. 0. 0. ... 0. 0. 0.]\n",
      " [0. 0. 0. ... 0. 0. 0.]\n",
      " [0. 0. 0. ... 0. 0. 0.]\n",
      " ...\n",
      " [0. 0. 0. ... 0. 0. 0.]\n",
      " [0. 0. 0. ... 0. 0. 0.]\n",
      " [0. 0. 0. ... 0. 0. 0.]] (512, 512)\n"
     ]
    }
   ],
   "source": [
    "vis = vis[0]\n",
    "print(vis, vis.numpy(), vis.numpy().shape)"
   ]
  },
  {
   "cell_type": "code",
   "execution_count": 5,
   "metadata": {},
   "outputs": [
    {
     "name": "stdout",
     "output_type": "stream",
     "text": [
      "(512, 512)\n"
     ]
    },
    {
     "data": {
      "text/plain": [
       "(-0.5, 511.5, 511.5, -0.5)"
      ]
     },
     "execution_count": 5,
     "metadata": {},
     "output_type": "execute_result"
    },
    {
     "data": {
      "image/png": "[encoded data removed]",
      "text/plain": [
       "<Figure size 640x480 with 1 Axes>"
      ]
     },
     "metadata": {},
     "output_type": "display_data"
    }
   ],
   "source": [
    "n = vis.numpy()\n",
    "print(n.shape)\n",
    "plt.imshow(n)\n",
    "plt.axis('off')"
   ]
  }
 ],
 "metadata": {
  "kernelspec": {
   "display_name": ".venv",
   "language": "python",
   "name": "python3"
  },
  "language_info": {
   "codemirror_mode": {
    "name": "ipython",
    "version": 3
   },
   "file_extension": ".py",
   "mimetype": "text/x-python",
   "name": "python",
   "nbconvert_exporter": "python",
   "pygments_lexer": "ipython3",
   "version": "3.11.8"
  }
 },
 "nbformat": 4,
 "nbformat_minor": 2
}
